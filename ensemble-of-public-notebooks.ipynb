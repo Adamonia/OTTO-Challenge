{
 "cells": [
  {
   "cell_type": "markdown",
   "id": "3a2b9949",
   "metadata": {
    "_cell_guid": "b1076dfc-b9ad-4769-8c92-a6c4dae69d19",
    "_uuid": "8f2839f25d086af736a60e9eeb907d3b93b6e0e5",
    "papermill": {
     "duration": 0.003723,
     "end_time": "2023-01-23T16:16:56.468413",
     "exception": false,
     "start_time": "2023-01-23T16:16:56.464690",
     "status": "completed"
    },
    "tags": []
   },
   "source": [
    "I used @radek1's approach for voting ensemble: https://www.kaggle.com/code/radek1/2-methods-how-to-ensemble-predictions"
   ]
  },
  {
   "cell_type": "markdown",
   "id": "3cf80c78",
   "metadata": {
    "papermill": {
     "duration": 0.002196,
     "end_time": "2023-01-23T16:16:56.473304",
     "exception": false,
     "start_time": "2023-01-23T16:16:56.471108",
     "status": "completed"
    },
    "tags": []
   },
   "source": [
    "# Loading the data"
   ]
  },
  {
   "cell_type": "code",
   "execution_count": 9,
   "id": "55e67bf4",
   "metadata": {
    "execution": {
     "iopub.execute_input": "2023-01-23T16:16:56.480430Z",
     "iopub.status.busy": "2023-01-23T16:16:56.480007Z",
     "iopub.status.idle": "2023-01-23T16:17:09.050462Z",
     "shell.execute_reply": "2023-01-23T16:17:09.048886Z"
    },
    "papermill": {
     "duration": 12.577224,
     "end_time": "2023-01-23T16:17:09.052860",
     "exception": false,
     "start_time": "2023-01-23T16:16:56.475636",
     "status": "completed"
    },
    "tags": []
   },
   "outputs": [
    {
     "name": "stdout",
     "output_type": "stream",
     "text": [
      "Requirement already satisfied: polars in c:\\users\\adamo\\anaconda3\\lib\\site-packages (0.15.18)\n",
      "Requirement already satisfied: typing_extensions>=4.0.0 in c:\\users\\adamo\\anaconda3\\lib\\site-packages (from polars) (4.3.0)\n"
     ]
    }
   ],
   "source": [
    "!pip install polars"
   ]
  },
  {
   "cell_type": "code",
   "execution_count": 13,
   "id": "f68c4347",
   "metadata": {
    "execution": {
     "iopub.execute_input": "2023-01-23T16:17:09.063063Z",
     "iopub.status.busy": "2023-01-23T16:17:09.062637Z",
     "iopub.status.idle": "2023-01-23T16:17:09.110607Z",
     "shell.execute_reply": "2023-01-23T16:17:09.109512Z"
    },
    "papermill": {
     "duration": 0.05628,
     "end_time": "2023-01-23T16:17:09.113376",
     "exception": false,
     "start_time": "2023-01-23T16:17:09.057096",
     "status": "completed"
    },
    "tags": []
   },
   "outputs": [],
   "source": [
    "import polars as pl\n",
    "paths = ['0.578_Ensemble of Public Notebooks_submission.csv', # 0.578\n",
    "         'Tuning Candidate ReRank Model[LB 0.577]_submission.csv', # 0.577\n",
    "         'easy-to-use co-visitation matrix function[LB 0.577]submission.csv', # 0.577\n",
    "         'Fast Handcrafted model & Recall@20[LB 0.575]_submission.csv', #0.575\n",
    "         'Otto Fast CPU End-to-End Pipeline_submission.csv'#0.574\n",
    "        ]\n",
    "#weights = [0.577, 0.577, 0.575, 0.533]\n",
    "weights = [1,1,1,1,1]"
   ]
  },
  {
   "cell_type": "code",
   "execution_count": 14,
   "id": "4a563746",
   "metadata": {
    "execution": {
     "iopub.execute_input": "2023-01-23T16:17:09.122946Z",
     "iopub.status.busy": "2023-01-23T16:17:09.122648Z",
     "iopub.status.idle": "2023-01-23T16:17:09.129289Z",
     "shell.execute_reply": "2023-01-23T16:17:09.128466Z"
    },
    "papermill": {
     "duration": 0.013442,
     "end_time": "2023-01-23T16:17:09.131112",
     "exception": false,
     "start_time": "2023-01-23T16:17:09.117670",
     "status": "completed"
    },
    "tags": []
   },
   "outputs": [],
   "source": [
    "def read_sub(path, weight=1): # by default let us assing the weight of 1 to predictions from each submission, this will be akin to a standard vote ensemble\n",
    "    '''a helper function for loading and preprocessing submissions'''\n",
    "    return (\n",
    "        pl.read_csv(path)\n",
    "            .with_column(pl.col('labels').str.split(by=' '))\n",
    "            .with_column(pl.lit(weight).alias('vote'))\n",
    "            .explode('labels')\n",
    "            .rename({'labels': 'aid'})\n",
    "            .with_column(pl.col('aid').cast(pl.UInt32)) # we are casting the `aids` to `Int32`! memory management is super important to ensure we don't run out of resources\n",
    "            .with_column(pl.col('vote').cast(pl.UInt8))\n",
    "    )"
   ]
  },
  {
   "cell_type": "code",
   "execution_count": 15,
   "id": "d1d7e16b",
   "metadata": {
    "execution": {
     "iopub.execute_input": "2023-01-23T16:17:09.140182Z",
     "iopub.status.busy": "2023-01-23T16:17:09.139909Z",
     "iopub.status.idle": "2023-01-23T16:17:09.277434Z",
     "shell.execute_reply": "2023-01-23T16:17:09.275478Z"
    },
    "papermill": {
     "duration": 0.144125,
     "end_time": "2023-01-23T16:17:09.279337",
     "exception": true,
     "start_time": "2023-01-23T16:17:09.135212",
     "status": "failed"
    },
    "tags": []
   },
   "outputs": [
    {
     "name": "stderr",
     "output_type": "stream",
     "text": [
      "C:\\Users\\adamo\\AppData\\Local\\Temp\\ipykernel_29840\\3887510293.py:4: DeprecationWarning: `with_column` has been deprecated in favor of `with_columns`. This method will be removed in version 0.17.0\n",
      "  pl.read_csv(path)\n"
     ]
    },
    {
     "data": {
      "text/html": [
       "<div>\n",
       "<style scoped>\n",
       "    .dataframe tbody tr th:only-of-type {\n",
       "        vertical-align: middle;\n",
       "    }\n",
       "\n",
       "    .dataframe tbody tr th {\n",
       "        vertical-align: top;\n",
       "    }\n",
       "\n",
       "    .dataframe thead th {\n",
       "        text-align: right;\n",
       "    }\n",
       "\n",
       "    .dataframe td {\n",
       "        white-space: pre;\n",
       "    }\n",
       "\n",
       "    .dataframe td {\n",
       "        padding-top: 0;\n",
       "    }\n",
       "\n",
       "    .dataframe td {\n",
       "        padding-bottom: 0;\n",
       "    }\n",
       "\n",
       "    .dataframe td {\n",
       "        line-height: 95%;\n",
       "    }\n",
       "</style>\n",
       "<table border=\"1\" class=\"dataframe\">\n",
       "<small>shape: (5, 3)</small>\n",
       "<thead>\n",
       "<tr>\n",
       "<th>\n",
       "session_type\n",
       "</th>\n",
       "<th>\n",
       "aid\n",
       "</th>\n",
       "<th>\n",
       "vote\n",
       "</th>\n",
       "</tr>\n",
       "<tr>\n",
       "<td>\n",
       "str\n",
       "</td>\n",
       "<td>\n",
       "u32\n",
       "</td>\n",
       "<td>\n",
       "u8\n",
       "</td>\n",
       "</tr>\n",
       "</thead>\n",
       "<tbody>\n",
       "<tr>\n",
       "<td>\n",
       "&quot;14279927_carts...\n",
       "</td>\n",
       "<td>\n",
       "872695\n",
       "</td>\n",
       "<td>\n",
       "1\n",
       "</td>\n",
       "</tr>\n",
       "<tr>\n",
       "<td>\n",
       "&quot;14279927_carts...\n",
       "</td>\n",
       "<td>\n",
       "922440\n",
       "</td>\n",
       "<td>\n",
       "1\n",
       "</td>\n",
       "</tr>\n",
       "<tr>\n",
       "<td>\n",
       "&quot;14279927_carts...\n",
       "</td>\n",
       "<td>\n",
       "67054\n",
       "</td>\n",
       "<td>\n",
       "1\n",
       "</td>\n",
       "</tr>\n",
       "<tr>\n",
       "<td>\n",
       "&quot;14279927_carts...\n",
       "</td>\n",
       "<td>\n",
       "153333\n",
       "</td>\n",
       "<td>\n",
       "1\n",
       "</td>\n",
       "</tr>\n",
       "<tr>\n",
       "<td>\n",
       "&quot;14279927_carts...\n",
       "</td>\n",
       "<td>\n",
       "215472\n",
       "</td>\n",
       "<td>\n",
       "1\n",
       "</td>\n",
       "</tr>\n",
       "</tbody>\n",
       "</table>\n",
       "</div>"
      ],
      "text/plain": [
       "shape: (5, 3)\n",
       "┌────────────────┬────────┬──────┐\n",
       "│ session_type   ┆ aid    ┆ vote │\n",
       "│ ---            ┆ ---    ┆ ---  │\n",
       "│ str            ┆ u32    ┆ u8   │\n",
       "╞════════════════╪════════╪══════╡\n",
       "│ 14279927_carts ┆ 872695 ┆ 1    │\n",
       "│ 14279927_carts ┆ 922440 ┆ 1    │\n",
       "│ 14279927_carts ┆ 67054  ┆ 1    │\n",
       "│ 14279927_carts ┆ 153333 ┆ 1    │\n",
       "│ 14279927_carts ┆ 215472 ┆ 1    │\n",
       "└────────────────┴────────┴──────┘"
      ]
     },
     "execution_count": 15,
     "metadata": {},
     "output_type": "execute_result"
    }
   ],
   "source": [
    "subs = [read_sub(path, weight=weights[i]) for (i, path) in enumerate(paths)]\n",
    "subs[0].head()"
   ]
  },
  {
   "cell_type": "code",
   "execution_count": 16,
   "id": "a3b219cd",
   "metadata": {
    "execution": {
     "iopub.execute_input": "2023-01-09T13:56:11.459791Z",
     "iopub.status.busy": "2023-01-09T13:56:11.458576Z"
    },
    "papermill": {
     "duration": null,
     "end_time": null,
     "exception": null,
     "start_time": null,
     "status": "pending"
    },
    "tags": []
   },
   "outputs": [
    {
     "data": {
      "text/html": [
       "<div>\n",
       "<style scoped>\n",
       "    .dataframe tbody tr th:only-of-type {\n",
       "        vertical-align: middle;\n",
       "    }\n",
       "\n",
       "    .dataframe tbody tr th {\n",
       "        vertical-align: top;\n",
       "    }\n",
       "\n",
       "    .dataframe thead th {\n",
       "        text-align: right;\n",
       "    }\n",
       "\n",
       "    .dataframe td {\n",
       "        white-space: pre;\n",
       "    }\n",
       "\n",
       "    .dataframe td {\n",
       "        padding-top: 0;\n",
       "    }\n",
       "\n",
       "    .dataframe td {\n",
       "        padding-bottom: 0;\n",
       "    }\n",
       "\n",
       "    .dataframe td {\n",
       "        line-height: 95%;\n",
       "    }\n",
       "</style>\n",
       "<table border=\"1\" class=\"dataframe\">\n",
       "<small>shape: (5, 5)</small>\n",
       "<thead>\n",
       "<tr>\n",
       "<th>\n",
       "session_type\n",
       "</th>\n",
       "<th>\n",
       "aid\n",
       "</th>\n",
       "<th>\n",
       "vote\n",
       "</th>\n",
       "<th>\n",
       "vote_right\n",
       "</th>\n",
       "<th>\n",
       "vote_right2\n",
       "</th>\n",
       "</tr>\n",
       "<tr>\n",
       "<td>\n",
       "str\n",
       "</td>\n",
       "<td>\n",
       "u32\n",
       "</td>\n",
       "<td>\n",
       "u8\n",
       "</td>\n",
       "<td>\n",
       "u8\n",
       "</td>\n",
       "<td>\n",
       "u8\n",
       "</td>\n",
       "</tr>\n",
       "</thead>\n",
       "<tbody>\n",
       "<tr>\n",
       "<td>\n",
       "&quot;12899779_click...\n",
       "</td>\n",
       "<td>\n",
       "59625\n",
       "</td>\n",
       "<td>\n",
       "1\n",
       "</td>\n",
       "<td>\n",
       "1\n",
       "</td>\n",
       "<td>\n",
       "1\n",
       "</td>\n",
       "</tr>\n",
       "<tr>\n",
       "<td>\n",
       "&quot;12899779_click...\n",
       "</td>\n",
       "<td>\n",
       "1253524\n",
       "</td>\n",
       "<td>\n",
       "1\n",
       "</td>\n",
       "<td>\n",
       "1\n",
       "</td>\n",
       "<td>\n",
       "1\n",
       "</td>\n",
       "</tr>\n",
       "<tr>\n",
       "<td>\n",
       "&quot;12899779_click...\n",
       "</td>\n",
       "<td>\n",
       "737445\n",
       "</td>\n",
       "<td>\n",
       "1\n",
       "</td>\n",
       "<td>\n",
       "1\n",
       "</td>\n",
       "<td>\n",
       "1\n",
       "</td>\n",
       "</tr>\n",
       "<tr>\n",
       "<td>\n",
       "&quot;12899779_click...\n",
       "</td>\n",
       "<td>\n",
       "438191\n",
       "</td>\n",
       "<td>\n",
       "1\n",
       "</td>\n",
       "<td>\n",
       "1\n",
       "</td>\n",
       "<td>\n",
       "1\n",
       "</td>\n",
       "</tr>\n",
       "<tr>\n",
       "<td>\n",
       "&quot;12899779_click...\n",
       "</td>\n",
       "<td>\n",
       "731692\n",
       "</td>\n",
       "<td>\n",
       "1\n",
       "</td>\n",
       "<td>\n",
       "1\n",
       "</td>\n",
       "<td>\n",
       "1\n",
       "</td>\n",
       "</tr>\n",
       "</tbody>\n",
       "</table>\n",
       "</div>"
      ],
      "text/plain": [
       "shape: (5, 5)\n",
       "┌─────────────────┬─────────┬──────┬────────────┬─────────────┐\n",
       "│ session_type    ┆ aid     ┆ vote ┆ vote_right ┆ vote_right2 │\n",
       "│ ---             ┆ ---     ┆ ---  ┆ ---        ┆ ---         │\n",
       "│ str             ┆ u32     ┆ u8   ┆ u8         ┆ u8          │\n",
       "╞═════════════════╪═════════╪══════╪════════════╪═════════════╡\n",
       "│ 12899779_clicks ┆ 59625   ┆ 1    ┆ 1          ┆ 1           │\n",
       "│ 12899779_clicks ┆ 1253524 ┆ 1    ┆ 1          ┆ 1           │\n",
       "│ 12899779_clicks ┆ 737445  ┆ 1    ┆ 1          ┆ 1           │\n",
       "│ 12899779_clicks ┆ 438191  ┆ 1    ┆ 1          ┆ 1           │\n",
       "│ 12899779_clicks ┆ 731692  ┆ 1    ┆ 1          ┆ 1           │\n",
       "└─────────────────┴─────────┴──────┴────────────┴─────────────┘"
      ]
     },
     "execution_count": 16,
     "metadata": {},
     "output_type": "execute_result"
    }
   ],
   "source": [
    "subs = subs[0].join(subs[1], how='outer', on=['session_type', 'aid']).join(subs[2], how='outer', on=['session_type', 'aid'], suffix='_right2')\n",
    "subs.head()"
   ]
  },
  {
   "cell_type": "code",
   "execution_count": 17,
   "id": "ab68df7f",
   "metadata": {
    "papermill": {
     "duration": null,
     "end_time": null,
     "exception": null,
     "start_time": null,
     "status": "pending"
    },
    "tags": []
   },
   "outputs": [
    {
     "name": "stderr",
     "output_type": "stream",
     "text": [
      "C:\\Users\\adamo\\AppData\\Local\\Temp\\ipykernel_29840\\3427031507.py:1: DeprecationWarning: `with_column` has been deprecated in favor of `with_columns`. This method will be removed in version 0.17.0\n",
      "  subs = (subs\n"
     ]
    },
    {
     "data": {
      "text/html": [
       "<div>\n",
       "<style scoped>\n",
       "    .dataframe tbody tr th:only-of-type {\n",
       "        vertical-align: middle;\n",
       "    }\n",
       "\n",
       "    .dataframe tbody tr th {\n",
       "        vertical-align: top;\n",
       "    }\n",
       "\n",
       "    .dataframe thead th {\n",
       "        text-align: right;\n",
       "    }\n",
       "\n",
       "    .dataframe td {\n",
       "        white-space: pre;\n",
       "    }\n",
       "\n",
       "    .dataframe td {\n",
       "        padding-top: 0;\n",
       "    }\n",
       "\n",
       "    .dataframe td {\n",
       "        padding-bottom: 0;\n",
       "    }\n",
       "\n",
       "    .dataframe td {\n",
       "        line-height: 95%;\n",
       "    }\n",
       "</style>\n",
       "<table border=\"1\" class=\"dataframe\">\n",
       "<small>shape: (5, 3)</small>\n",
       "<thead>\n",
       "<tr>\n",
       "<th>\n",
       "session_type\n",
       "</th>\n",
       "<th>\n",
       "aid\n",
       "</th>\n",
       "<th>\n",
       "vote_sum\n",
       "</th>\n",
       "</tr>\n",
       "<tr>\n",
       "<td>\n",
       "str\n",
       "</td>\n",
       "<td>\n",
       "u32\n",
       "</td>\n",
       "<td>\n",
       "u8\n",
       "</td>\n",
       "</tr>\n",
       "</thead>\n",
       "<tbody>\n",
       "<tr>\n",
       "<td>\n",
       "&quot;14571581_carts...\n",
       "</td>\n",
       "<td>\n",
       "196038\n",
       "</td>\n",
       "<td>\n",
       "3\n",
       "</td>\n",
       "</tr>\n",
       "<tr>\n",
       "<td>\n",
       "&quot;14571581_carts...\n",
       "</td>\n",
       "<td>\n",
       "1497245\n",
       "</td>\n",
       "<td>\n",
       "3\n",
       "</td>\n",
       "</tr>\n",
       "<tr>\n",
       "<td>\n",
       "&quot;14571581_carts...\n",
       "</td>\n",
       "<td>\n",
       "174670\n",
       "</td>\n",
       "<td>\n",
       "3\n",
       "</td>\n",
       "</tr>\n",
       "<tr>\n",
       "<td>\n",
       "&quot;14571581_carts...\n",
       "</td>\n",
       "<td>\n",
       "1764910\n",
       "</td>\n",
       "<td>\n",
       "3\n",
       "</td>\n",
       "</tr>\n",
       "<tr>\n",
       "<td>\n",
       "&quot;14571581_carts...\n",
       "</td>\n",
       "<td>\n",
       "984794\n",
       "</td>\n",
       "<td>\n",
       "3\n",
       "</td>\n",
       "</tr>\n",
       "</tbody>\n",
       "</table>\n",
       "</div>"
      ],
      "text/plain": [
       "shape: (5, 3)\n",
       "┌────────────────┬─────────┬──────────┐\n",
       "│ session_type   ┆ aid     ┆ vote_sum │\n",
       "│ ---            ┆ ---     ┆ ---      │\n",
       "│ str            ┆ u32     ┆ u8       │\n",
       "╞════════════════╪═════════╪══════════╡\n",
       "│ 14571581_carts ┆ 196038  ┆ 3        │\n",
       "│ 14571581_carts ┆ 1497245 ┆ 3        │\n",
       "│ 14571581_carts ┆ 174670  ┆ 3        │\n",
       "│ 14571581_carts ┆ 1764910 ┆ 3        │\n",
       "│ 14571581_carts ┆ 984794  ┆ 3        │\n",
       "└────────────────┴─────────┴──────────┘"
      ]
     },
     "execution_count": 17,
     "metadata": {},
     "output_type": "execute_result"
    }
   ],
   "source": [
    "subs = (subs\n",
    "    .fill_null(0)\n",
    "    .with_column((pl.col('vote') + pl.col('vote_right') + pl.col('vote_right2')).alias('vote_sum'))\n",
    "    .drop(['vote', 'vote_right', 'vote_right2'])\n",
    "    .sort(by='vote_sum')\n",
    "    .reverse()\n",
    ")\n",
    "\n",
    "subs.head()"
   ]
  },
  {
   "cell_type": "code",
   "execution_count": 18,
   "id": "8b2cbf12",
   "metadata": {
    "papermill": {
     "duration": null,
     "end_time": null,
     "exception": null,
     "start_time": null,
     "status": "pending"
    },
    "tags": []
   },
   "outputs": [
    {
     "name": "stderr",
     "output_type": "stream",
     "text": [
      "<timed exec>:5: DeprecationWarning: `with_column` has been deprecated in favor of `with_columns`. This method will be removed in version 0.17.0\n"
     ]
    },
    {
     "name": "stdout",
     "output_type": "stream",
     "text": [
      "Wall time: 3min 13s\n"
     ]
    }
   ],
   "source": [
    "%%time\n",
    "preds = subs.groupby('session_type').agg([\n",
    "    pl.col('aid').head(20).alias('labels')\n",
    "])\n",
    "\n",
    "preds = preds.with_column(pl.col('labels').apply(lambda lst: ' '.join([str(aid) for aid in lst])))"
   ]
  },
  {
   "cell_type": "code",
   "execution_count": 19,
   "id": "61d5fb7d",
   "metadata": {
    "papermill": {
     "duration": null,
     "end_time": null,
     "exception": null,
     "start_time": null,
     "status": "pending"
    },
    "tags": []
   },
   "outputs": [],
   "source": [
    "preds.write_csv('submission.csv')"
   ]
  },
  {
   "cell_type": "code",
   "execution_count": null,
   "id": "0997574f",
   "metadata": {},
   "outputs": [],
   "source": []
  },
  {
   "cell_type": "code",
   "execution_count": null,
   "id": "f0b8be91",
   "metadata": {},
   "outputs": [],
   "source": []
  },
  {
   "cell_type": "code",
   "execution_count": null,
   "id": "1605cfbb",
   "metadata": {},
   "outputs": [],
   "source": []
  },
  {
   "cell_type": "code",
   "execution_count": null,
   "id": "b00121ef",
   "metadata": {},
   "outputs": [],
   "source": []
  }
 ],
 "metadata": {
  "kernelspec": {
   "display_name": "Python 3 (ipykernel)",
   "language": "python",
   "name": "python3"
  },
  "language_info": {
   "codemirror_mode": {
    "name": "ipython",
    "version": 3
   },
   "file_extension": ".py",
   "mimetype": "text/x-python",
   "name": "python",
   "nbconvert_exporter": "python",
   "pygments_lexer": "ipython3",
   "version": "3.9.13"
  },
  "papermill": {
   "default_parameters": {},
   "duration": 20.580404,
   "end_time": "2023-01-23T16:17:09.905465",
   "environment_variables": {},
   "exception": true,
   "input_path": "__notebook__.ipynb",
   "output_path": "__notebook__.ipynb",
   "parameters": {},
   "start_time": "2023-01-23T16:16:49.325061",
   "version": "2.3.4"
  }
 },
 "nbformat": 4,
 "nbformat_minor": 5
}
